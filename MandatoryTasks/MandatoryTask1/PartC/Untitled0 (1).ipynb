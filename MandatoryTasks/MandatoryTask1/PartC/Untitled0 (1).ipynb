{
  "nbformat": 4,
  "nbformat_minor": 0,
  "metadata": {
    "colab": {
      "provenance": [],
      "gpuType": "T4"
    },
    "kernelspec": {
      "name": "python3",
      "display_name": "Python 3"
    },
    "language_info": {
      "name": "python"
    },
    "accelerator": "GPU"
  },
  "cells": [
    {
      "cell_type": "code",
      "execution_count": null,
      "metadata": {
        "id": "aQ1wgDsT4lqC"
      },
      "outputs": [],
      "source": [
        "from transformers import pipeline\n",
        "from datasets import load_dataset\n",
        "from tqdm import tqdm\n",
        "\n",
        "model_name = \"distilbert/distilbert-base-cased-distilled-squad\"\n",
        "qa_pipeline = pipeline(\"question-answering\", model=model_name, tokenizer=model_name)\n",
        "\n",
        "from datasets import load_dataset\n",
        "\n",
        "dataset = load_dataset(\"lucadiliello/newsqa\")"
      ]
    },
    {
      "cell_type": "code",
      "source": [
        "from tqdm import tqdm\n",
        "\n",
        "predictions = []\n",
        "references = []\n",
        "\n",
        "validation_dataset = dataset['validation']\n",
        "\n",
        "sample_dataset = validation_dataset.select(range(500))\n",
        "\n",
        "print(f\"Running evaluation on {len(sample_dataset)} examples...\")\n",
        "\n",
        "for i, example in enumerate(tqdm(sample_dataset)):\n",
        "\n",
        "    question = example[\"question\"]\n",
        "    context = example[\"context\"]\n",
        "    result = qa_pipeline(question=question, context=context)\n",
        "    prediction_text = result['answer']\n",
        "\n",
        "    pred_obj = {\n",
        "        'id': str(i),\n",
        "        'prediction_text': prediction_text\n",
        "    }\n",
        "    predictions.append(pred_obj)\n",
        "\n",
        "\n",
        "    ground_truth_answers = example['answers']\n",
        "    answer_starts = []\n",
        "\n",
        "    for answer_text in ground_truth_answers:\n",
        "        start_index = context.find(answer_text)\n",
        "        if start_index != -1:\n",
        "            answer_starts.append(start_index)\n",
        "        else:\n",
        "            answer_starts.append(0)\n",
        "\n",
        "    ref_obj = {\n",
        "        'id': str(i),\n",
        "        'answers': {\n",
        "            'text': ground_truth_answers,\n",
        "            'answer_start': answer_starts\n",
        "        }\n",
        "    }\n",
        "    references.append(ref_obj)"
      ],
      "metadata": {
        "id": "-xqpWDVZ6xDl"
      },
      "execution_count": null,
      "outputs": []
    },
    {
      "cell_type": "code",
      "source": [
        "!pip install evaluate\n",
        "import evaluate\n",
        "squad_metric = evaluate.load(\"squad\")\n",
        "results = squad_metric.compute(predictions=predictions, references=references)\n",
        "\n",
        "print(f\"Total Examples:   {len(predictions)}\")\n",
        "print(f\"Exact Match (EM): {results['exact_match']:.2f}\")\n",
        "print(f\"F1 Score (F1):    {results['f1']:.2f}\")"
      ],
      "metadata": {
        "id": "GyiAxl7Z730l"
      },
      "execution_count": null,
      "outputs": []
    },
    {
      "cell_type": "code",
      "source": [],
      "metadata": {
        "id": "SBWwt9ZA_YzE"
      },
      "execution_count": null,
      "outputs": []
    }
  ]
}