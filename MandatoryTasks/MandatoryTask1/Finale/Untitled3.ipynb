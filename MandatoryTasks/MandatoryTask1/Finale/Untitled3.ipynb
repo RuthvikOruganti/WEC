{
  "nbformat": 4,
  "nbformat_minor": 0,
  "metadata": {
    "colab": {
      "provenance": [],
      "toc_visible": true
    },
    "kernelspec": {
      "name": "python3",
      "display_name": "Python 3"
    },
    "language_info": {
      "name": "python"
    }
  },
  "cells": [
    {
      "cell_type": "code",
      "execution_count": null,
      "metadata": {
        "id": "vVLicP93ehN0"
      },
      "outputs": [],
      "source": [
        "from transformers import pipeline"
      ]
    },
    {
      "cell_type": "code",
      "source": [
        "qa_pipeline = pipeline(\n",
        "    \"question-answering\",\n",
        "    model=\"distilbert/distilbert-base-cased-distilled-squad\"\n",
        ")\n",
        "\n",
        "translator = pipeline(\n",
        "    \"translation_en_to_fr\",\n",
        "    model=\"Helsinki-NLP/opus-mt-en-fr\"\n",
        ")"
      ],
      "metadata": {
        "id": "jxyqDlDPB4R5"
      },
      "execution_count": null,
      "outputs": []
    },
    {
      "cell_type": "code",
      "source": [
        "def get_french_answer(question, context):\n",
        "\n",
        "    print(f\"Context: {context}\")\n",
        "    print(f\"Question: {question}\")\n",
        "\n",
        "    qa_result = qa_pipeline(question=question, context=context)\n",
        "    english_answer = qa_result['answer']\n",
        "\n",
        "    print(f\"\\nEnglish Answer: '{english_answer}'\")\n",
        "\n",
        "    translation_result = translator(english_answer)\n",
        "    french_answer = translation_result[0]['translation_text']\n",
        "\n",
        "    print(f\"\\nFrench Answer: '{french_answer}'\")\n",
        "\n",
        "    return french_answer"
      ],
      "metadata": {
        "id": "85ab7oqfel-6"
      },
      "execution_count": null,
      "outputs": []
    },
    {
      "cell_type": "code",
      "source": [
        "eng_context = (\"The University of Notre Dame was founded in 1842 by Edward Sorin, \"\n",
        "               \"a priest of the Congregation of Holy Cross. The main building, \"\n",
        "               \"with its famous Golden Dome, was completed in 1888.\")\n",
        "\n",
        "eng_question_1 = \"Who founded Notre Dame?\"\n",
        "final_answer_1 = get_french_answer(eng_question_1, eng_context)\n",
        "\n",
        "eng_question_2 = \"What was completed in 1888?\"\n",
        "final_answer_2 = get_french_answer(eng_question_2, eng_context)"
      ],
      "metadata": {
        "id": "Akd8yNGoCBPF"
      },
      "execution_count": null,
      "outputs": []
    },
    {
      "cell_type": "code",
      "source": [],
      "metadata": {
        "id": "3_PxTnx2Cjle"
      },
      "execution_count": null,
      "outputs": []
    }
  ]
}